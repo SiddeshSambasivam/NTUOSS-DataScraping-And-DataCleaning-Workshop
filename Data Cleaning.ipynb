{
 "cells": [
  {
   "cell_type": "markdown",
   "metadata": {},
   "source": [
    "# NTU OSS TGIFHacks: Data Scraping and Data Cleaning\n",
    "\n",
    "This notebook covers the data cleaning section of the workshop. The notebook is split into two parts, in the first part, we work with the text data that was mined and later work with the image data that was crawled. \n",
    "\n",
    "For the purpose of teaching, the size of the dataset is kept small. Feel free to experiment with a larger dataset.\n",
    "\n",
    "![](https://i.chzbgr.com/full/8120808448/h2E18CA37/clean-all-the-data)\n"
   ]
  },
  {
   "cell_type": "markdown",
   "metadata": {},
   "source": [
    "# PART 1: Data Cleaning of News Headlines\n",
    "\n",
    "Given we have crawled news headlines and its metadata, we have to perform quite a few steps clean the data. **Do note that the cleaning method could vary based on the task.** The tasks that we are going to do are as follows:\n",
    "\n",
    "1. Clean the meta data -> Split the datetime, Convert the datatime, Get author's name\n",
    "2. Clean the headlines\n",
    "\n",
    "    2.1 Tokenization + Remove punctuation\n",
    "    \n",
    "    2.2 Remove stop words\n",
    "    \n",
    "    2.3 Normailze the case of letters\n",
    "    \n",
    "    2.4 Stemming"
   ]
  },
  {
   "cell_type": "code",
   "execution_count": 85,
   "metadata": {},
   "outputs": [
    {
     "name": "stderr",
     "output_type": "stream",
     "text": [
      "[nltk_data] Downloading package stopwords to\n",
      "[nltk_data]     /Users/siddesh.suseela/nltk_data...\n",
      "[nltk_data]   Package stopwords is already up-to-date!\n"
     ]
    }
   ],
   "source": [
    "import pandas as pd\n",
    "import numpy as np\n",
    "import re\n",
    "from sklearn.model_selection import train_test_split\n",
    "\n",
    "import nltk\n",
    "nltk.download('stopwords')\n",
    "from nltk.corpus import stopwords\n",
    "from nltk.stem.porter import PorterStemmer\n"
   ]
  },
  {
   "cell_type": "code",
   "execution_count": 12,
   "metadata": {},
   "outputs": [
    {
     "data": {
      "text/html": [
       "<div>\n",
       "<style scoped>\n",
       "    .dataframe tbody tr th:only-of-type {\n",
       "        vertical-align: middle;\n",
       "    }\n",
       "\n",
       "    .dataframe tbody tr th {\n",
       "        vertical-align: top;\n",
       "    }\n",
       "\n",
       "    .dataframe thead th {\n",
       "        text-align: right;\n",
       "    }\n",
       "</style>\n",
       "<table border=\"1\" class=\"dataframe\">\n",
       "  <thead>\n",
       "    <tr style=\"text-align: right;\">\n",
       "      <th></th>\n",
       "      <th>title</th>\n",
       "      <th>meta</th>\n",
       "    </tr>\n",
       "  </thead>\n",
       "  <tbody>\n",
       "    <tr>\n",
       "      <th>0</th>\n",
       "      <td>&lt;h2 class=\"categoryArticle__title\"&gt;Oil Holds G...</td>\n",
       "      <td>&lt;p class=\"categoryArticle__meta\"&gt;Sep 22, 2020 ...</td>\n",
       "    </tr>\n",
       "    <tr>\n",
       "      <th>1</th>\n",
       "      <td>&lt;h2 class=\"categoryArticle__title\"&gt;Australia P...</td>\n",
       "      <td>&lt;p class=\"categoryArticle__meta\"&gt;Sep 22, 2020 ...</td>\n",
       "    </tr>\n",
       "    <tr>\n",
       "      <th>2</th>\n",
       "      <td>&lt;h2 class=\"categoryArticle__title\"&gt;Chinese Oil...</td>\n",
       "      <td>&lt;p class=\"categoryArticle__meta\"&gt;Sep 22, 2020 ...</td>\n",
       "    </tr>\n",
       "    <tr>\n",
       "      <th>3</th>\n",
       "      <td>&lt;h2 class=\"categoryArticle__title\"&gt;China Promi...</td>\n",
       "      <td>&lt;p class=\"categoryArticle__meta\"&gt;Sep 22, 2020 ...</td>\n",
       "    </tr>\n",
       "    <tr>\n",
       "      <th>4</th>\n",
       "      <td>&lt;h2 class=\"categoryArticle__title\"&gt;Pompeo: We ...</td>\n",
       "      <td>&lt;p class=\"categoryArticle__meta\"&gt;Sep 22, 2020 ...</td>\n",
       "    </tr>\n",
       "    <tr>\n",
       "      <th>5</th>\n",
       "      <td>&lt;h2 class=\"categoryArticle__title\"&gt;India Toppe...</td>\n",
       "      <td>&lt;p class=\"categoryArticle__meta\"&gt;Sep 21, 2020 ...</td>\n",
       "    </tr>\n",
       "    <tr>\n",
       "      <th>6</th>\n",
       "      <td>&lt;h2 class=\"categoryArticle__title\"&gt;Canada’s No...</td>\n",
       "      <td>&lt;p class=\"categoryArticle__meta\"&gt;Sep 21, 2020 ...</td>\n",
       "    </tr>\n",
       "    <tr>\n",
       "      <th>7</th>\n",
       "      <td>&lt;h2 class=\"categoryArticle__title\"&gt;Tesla's “ba...</td>\n",
       "      <td>&lt;p class=\"categoryArticle__meta\"&gt;Sep 21, 2020 ...</td>\n",
       "    </tr>\n",
       "    <tr>\n",
       "      <th>8</th>\n",
       "      <td>&lt;h2 class=\"categoryArticle__title\"&gt;CNOOC Begin...</td>\n",
       "      <td>&lt;p class=\"categoryArticle__meta\"&gt;Sep 21, 2020 ...</td>\n",
       "    </tr>\n",
       "    <tr>\n",
       "      <th>9</th>\n",
       "      <td>&lt;h2 class=\"categoryArticle__title\"&gt;Norway’s Oi...</td>\n",
       "      <td>&lt;p class=\"categoryArticle__meta\"&gt;Sep 21, 2020 ...</td>\n",
       "    </tr>\n",
       "  </tbody>\n",
       "</table>\n",
       "</div>"
      ],
      "text/plain": [
       "                                               title  \\\n",
       "0  <h2 class=\"categoryArticle__title\">Oil Holds G...   \n",
       "1  <h2 class=\"categoryArticle__title\">Australia P...   \n",
       "2  <h2 class=\"categoryArticle__title\">Chinese Oil...   \n",
       "3  <h2 class=\"categoryArticle__title\">China Promi...   \n",
       "4  <h2 class=\"categoryArticle__title\">Pompeo: We ...   \n",
       "5  <h2 class=\"categoryArticle__title\">India Toppe...   \n",
       "6  <h2 class=\"categoryArticle__title\">Canada’s No...   \n",
       "7  <h2 class=\"categoryArticle__title\">Tesla's “ba...   \n",
       "8  <h2 class=\"categoryArticle__title\">CNOOC Begin...   \n",
       "9  <h2 class=\"categoryArticle__title\">Norway’s Oi...   \n",
       "\n",
       "                                                meta  \n",
       "0  <p class=\"categoryArticle__meta\">Sep 22, 2020 ...  \n",
       "1  <p class=\"categoryArticle__meta\">Sep 22, 2020 ...  \n",
       "2  <p class=\"categoryArticle__meta\">Sep 22, 2020 ...  \n",
       "3  <p class=\"categoryArticle__meta\">Sep 22, 2020 ...  \n",
       "4  <p class=\"categoryArticle__meta\">Sep 22, 2020 ...  \n",
       "5  <p class=\"categoryArticle__meta\">Sep 21, 2020 ...  \n",
       "6  <p class=\"categoryArticle__meta\">Sep 21, 2020 ...  \n",
       "7  <p class=\"categoryArticle__meta\">Sep 21, 2020 ...  \n",
       "8  <p class=\"categoryArticle__meta\">Sep 21, 2020 ...  \n",
       "9  <p class=\"categoryArticle__meta\">Sep 21, 2020 ...  "
      ]
     },
     "execution_count": 12,
     "metadata": {},
     "output_type": "execute_result"
    }
   ],
   "source": [
    "rawDF = pd.read_csv('./newsheadlines/raw_dataset/news_raw.csv')\n",
    "rawDF.head(10)"
   ]
  },
  {
   "cell_type": "code",
   "execution_count": 24,
   "metadata": {},
   "outputs": [],
   "source": [
    "# Declaring all the constants required\n",
    "month2idx = {\n",
    "    'jan':'01',\n",
    "    'feb':'02',\n",
    "    'mar':'03',\n",
    "    'apr':'04',\n",
    "    'may':'05',\n",
    "    'jun':'06',\n",
    "    'jul':'07',\n",
    "    'aug':'08',\n",
    "    'sep':'09',\n",
    "    'oct':'10',\n",
    "    'nov':'11',\n",
    "    'dec':'12',\n",
    "}\n",
    "\n",
    "emoji_pattern = re.compile(\"[\"\n",
    "                       u\"\\U0001F600-\\U0001F64F\"  # emoticons\n",
    "                       u\"\\U0001F300-\\U0001F5FF\"  # symbols & pictographs\n",
    "                       u\"\\U0001F680-\\U0001F6FF\"  # transport & map symbols\n",
    "                       u\"\\U0001F1E0-\\U0001F1FF\"  # flags (iOS)\n",
    "                       u\"\\U00002702-\\U000027B0\"\n",
    "                       u\"\\U000024C2-\\U0001F251\"\n",
    "                       \"]+\", flags=re.UNICODE)\n",
    "\n",
    "# ================ UTILITY FUNCTIONS =================\n",
    "\n",
    "def cleanHTML(x:str) -> str:\n",
    "    '''Return a string after removing the html tags'''\n",
    "    rawText = re.sub(r'<.*?>', '', x) # Removes the html tags    \n",
    "    return rawText\n",
    "\n",
    "def cleanURLS(x:str) -> str:\n",
    "    '''Return a string after removing the URLs'''\n",
    "    rawText = re.sub(r'https?:\\/\\/\\S+|www\\.\\S+', '', x) # Removes URLs\n",
    "    return rawText\n",
    "\n",
    "def cleanSpecialCharacters(x:str) -> str:\n",
    "    '''Return a string after removing the special characters'''\n",
    "    rawText = re.sub(r'[^\\w\\d\\s]', '', x) # Removes special characters\n",
    "    return rawText    \n",
    "\n",
    "def cleanEmjois(x:str)-> str:\n",
    "    '''Return a string after removing the Emojis'''\n",
    "    rawText = emoji_pattern.sub(r'', x)\n",
    "    return rawText\n",
    " \n",
    "def convertISO(text:str) -> str:\n",
    "    # ref: https://www.w3.org/QA/Tips/iso-date\n",
    "    # converting to iso format\n",
    "    # For example, \"3rd of April 2002\", in this international format is written: 2002-04-03.\n",
    "    month, day, year = text.split()\n",
    "    month = month2idx[month]\n",
    "    text = year+'-'+month+'-'+day\n",
    "    return text"
   ]
  },
  {
   "cell_type": "code",
   "execution_count": 22,
   "metadata": {},
   "outputs": [
    {
     "name": "stdout",
     "output_type": "stream",
     "text": [
      "Sample for title:\n",
      "------------------\n",
      "<h2 class=\"categoryArticle__title\">Oil Holds Gains As Large Gasoline Draw Offsets Crude Build</h2>\n",
      "\n",
      "Sample for meta:\n",
      "------------------\n",
      "<p class=\"categoryArticle__meta\">Sep 22, 2020 at 15:40 | Julianne Geiger</p>\n",
      "\n"
     ]
    }
   ],
   "source": [
    "# Samples of the columns\n",
    "\n",
    "for col in rawDF.columns:    \n",
    "    print(f'Sample for {col}:')\n",
    "    print('------------------')\n",
    "    print(rawDF[col].iloc[0])\n",
    "    print()\n",
    "    "
   ]
  },
  {
   "cell_type": "code",
   "execution_count": 86,
   "metadata": {},
   "outputs": [],
   "source": [
    "# ================ Cleaner Functions =================\n",
    "\n",
    "def cleanerMetaData(x:str) -> str:\n",
    "    removedHTML = cleanHTML(x)\n",
    "    removedHTML = removedHTML.lower()\n",
    "    timestamp, author = removedHTML.split('|')\n",
    "    date, time = timestamp.split('at')\n",
    "    date = convertISO( \n",
    "        cleanSpecialCharacters(date) \n",
    "    )\n",
    "#     return {\n",
    "#         'Date':date,\n",
    "#         'Time': time,\n",
    "#         'Author':author,\n",
    "#         'Timezone':'SGT'\n",
    "#     }\n",
    "    return date\n",
    "\n",
    "def cleanerTitle(x: str) -> str:\n",
    "    x = cleanHTML(x)\n",
    "    x = x.lower()\n",
    "    x = cleanEmjois(x)\n",
    "    x = cleanSpecialCharacters(x)\n",
    "    x = cleanURLS(x)\n",
    "    words = x.strip().split()\n",
    "    \n",
    "    stop_words = set(stopwords.words('english'))\n",
    "    words = [w for w in words if not w in stop_words]\n",
    "    \n",
    "    # stemmin gis useful because it reduces the vocab size \n",
    "    # and also to predict the sentiment of a sentence you \n",
    "    # just need the root meaning\n",
    "    porter = PorterStemmer()\n",
    "    stemmed = [porter.stem(word) for word in words]\n",
    "    \n",
    "    \n",
    "    return ' '.join(stemmed)\n",
    "    "
   ]
  },
  {
   "cell_type": "code",
   "execution_count": 87,
   "metadata": {},
   "outputs": [],
   "source": [
    "rawDF['date']= rawDF.meta.apply(lambda x: cleanerMetaData(x))\n",
    "rawDF['title'] = rawDF.title.apply(lambda x: cleanerTitle(x))"
   ]
  },
  {
   "cell_type": "code",
   "execution_count": 89,
   "metadata": {},
   "outputs": [
    {
     "data": {
      "text/plain": [
       "0      oil hold gain larg gasolin draw offset crude b...\n",
       "1              australia plan us13b invest lowemiss tech\n",
       "2       chines oil giant could buy exxon north sea asset\n",
       "3                        china promis tackl climat chang\n",
       "4                      pompeo build coalit nord stream 2\n",
       "                             ...                        \n",
       "195     eastern libya see power outag result oil blockad\n",
       "196    demand crash hit us refin surg biofuel blend cost\n",
       "197                   gold price plung 2000 explos ralli\n",
       "198        russia oil product export us jump 16year high\n",
       "199    shale giant occident petroleum report major lo...\n",
       "Name: title, Length: 200, dtype: object"
      ]
     },
     "execution_count": 89,
     "metadata": {},
     "output_type": "execute_result"
    }
   ],
   "source": [
    "rawDF.title"
   ]
  },
  {
   "cell_type": "code",
   "execution_count": 90,
   "metadata": {},
   "outputs": [],
   "source": [
    "datasetDF = rawDF.drop(['meta','date'], axis=1)"
   ]
  },
  {
   "cell_type": "code",
   "execution_count": 91,
   "metadata": {},
   "outputs": [],
   "source": [
    "test_dataset, validation_dataset = train_test_split(datasetDF, test_size= 0.2)"
   ]
  },
  {
   "cell_type": "code",
   "execution_count": 92,
   "metadata": {},
   "outputs": [],
   "source": [
    "test_dataset.reset_index(drop=True, inplace=True)\n",
    "validation_dataset.reset_index(drop=True, inplace=True)"
   ]
  },
  {
   "cell_type": "code",
   "execution_count": 93,
   "metadata": {},
   "outputs": [
    {
     "data": {
      "text/plain": [
       "(160, 40)"
      ]
     },
     "execution_count": 93,
     "metadata": {},
     "output_type": "execute_result"
    }
   ],
   "source": [
    "len(test_dataset), len(validation_dataset)"
   ]
  },
  {
   "cell_type": "markdown",
   "metadata": {},
   "source": [
    "# PART 2: Data Preprocessing of Image data\n",
    "\n",
    "1. Create a dataframe with path and class\n",
    "3. Split the data into train and test"
   ]
  },
  {
   "cell_type": "code",
   "execution_count": 163,
   "metadata": {},
   "outputs": [],
   "source": [
    "import numpy as np\n",
    "from sklearn.model_selection import train_test_split\n",
    "from tqdm import tqdm_notebook\n",
    "import os\n",
    "import shutil\n",
    "import cv2"
   ]
  },
  {
   "cell_type": "code",
   "execution_count": 148,
   "metadata": {},
   "outputs": [
    {
     "data": {
      "text/plain": [
       "['paintings', 'photographs']"
      ]
     },
     "execution_count": 148,
     "metadata": {},
     "output_type": "execute_result"
    }
   ],
   "source": [
    "DATAPATH = './imgClfDataset/raw_dataset/'\n",
    "classes = os.listdir(DATAPATH)[1:]\n",
    "classes"
   ]
  },
  {
   "cell_type": "code",
   "execution_count": 149,
   "metadata": {},
   "outputs": [],
   "source": [
    "datalist = list()\n",
    "classlist = list()\n",
    "pathlist = list()\n",
    "\n",
    "# Encode\n",
    "#  0 -> paintings\n",
    "#  1 -> photographs\n",
    "\n",
    "for idx, cls in enumerate(classes):\n",
    "    tmp = os.listdir(DATAPATH+cls+'/full')\n",
    "    datalist += tmp\n",
    "    pathlist += [DATAPATH+cls+'/full'] *len(tmp)\n",
    "    classlist += [idx]*len(tmp)\n",
    "\n",
    "assert len(classlist) == len(datalist) == len(pathlist)"
   ]
  },
  {
   "cell_type": "code",
   "execution_count": 150,
   "metadata": {},
   "outputs": [
    {
     "data": {
      "text/plain": [
       "0    648\n",
       "1    647\n",
       "Name: class, dtype: int64"
      ]
     },
     "execution_count": 150,
     "metadata": {},
     "output_type": "execute_result"
    }
   ],
   "source": [
    "rawDF = pd.DataFrame(\n",
    "    {\n",
    "        'image':datalist,\n",
    "        'path':pathlist,\n",
    "        'class':classlist\n",
    "        \n",
    "    }\n",
    ")\n",
    "\n",
    "rawDF = rawDF.sample(frac=1).reset_index(drop=True)\n",
    "\n",
    "rawDF['class'].value_counts()"
   ]
  },
  {
   "cell_type": "code",
   "execution_count": 151,
   "metadata": {},
   "outputs": [
    {
     "data": {
      "text/plain": [
       "(1036, 259)"
      ]
     },
     "execution_count": 151,
     "metadata": {},
     "output_type": "execute_result"
    }
   ],
   "source": [
    "train_data, test_data = train_test_split(rawDF, test_size=0.2)\n",
    "\n",
    "train_data.reset_index(drop=True, inplace=True)\n",
    "test_data.reset_index(drop=True, inplace=True)\n",
    "\n",
    "len(train_data), len(test_data)"
   ]
  },
  {
   "cell_type": "code",
   "execution_count": 152,
   "metadata": {},
   "outputs": [
    {
     "data": {
      "text/html": [
       "<div>\n",
       "<style scoped>\n",
       "    .dataframe tbody tr th:only-of-type {\n",
       "        vertical-align: middle;\n",
       "    }\n",
       "\n",
       "    .dataframe tbody tr th {\n",
       "        vertical-align: top;\n",
       "    }\n",
       "\n",
       "    .dataframe thead th {\n",
       "        text-align: right;\n",
       "    }\n",
       "</style>\n",
       "<table border=\"1\" class=\"dataframe\">\n",
       "  <thead>\n",
       "    <tr style=\"text-align: right;\">\n",
       "      <th></th>\n",
       "      <th>image</th>\n",
       "      <th>path</th>\n",
       "      <th>class</th>\n",
       "    </tr>\n",
       "  </thead>\n",
       "  <tbody>\n",
       "    <tr>\n",
       "      <th>0</th>\n",
       "      <td>bae3912762c4fc6000d2f1ff57c24aa3df1ff011.jpg</td>\n",
       "      <td>./imgClfDataset/raw_dataset/photographs/full</td>\n",
       "      <td>1</td>\n",
       "    </tr>\n",
       "    <tr>\n",
       "      <th>1</th>\n",
       "      <td>8de3bfb56c8439665add3126ce544af064be944c.jpg</td>\n",
       "      <td>./imgClfDataset/raw_dataset/photographs/full</td>\n",
       "      <td>1</td>\n",
       "    </tr>\n",
       "    <tr>\n",
       "      <th>2</th>\n",
       "      <td>ef99d0326c60991496c9e2a7a066dbadd0ff9f4a.jpg</td>\n",
       "      <td>./imgClfDataset/raw_dataset/paintings/full</td>\n",
       "      <td>0</td>\n",
       "    </tr>\n",
       "    <tr>\n",
       "      <th>3</th>\n",
       "      <td>02f58f692c08c0fb377d754c239ffe3371c267cd.jpg</td>\n",
       "      <td>./imgClfDataset/raw_dataset/photographs/full</td>\n",
       "      <td>1</td>\n",
       "    </tr>\n",
       "    <tr>\n",
       "      <th>4</th>\n",
       "      <td>0b3ede5b30a3d2a53a8522438ac7d9eb37b88a53.jpg</td>\n",
       "      <td>./imgClfDataset/raw_dataset/photographs/full</td>\n",
       "      <td>1</td>\n",
       "    </tr>\n",
       "    <tr>\n",
       "      <th>...</th>\n",
       "      <td>...</td>\n",
       "      <td>...</td>\n",
       "      <td>...</td>\n",
       "    </tr>\n",
       "    <tr>\n",
       "      <th>1031</th>\n",
       "      <td>31f4a57afdd421c53f92b30f8d7c3c22f9d398c5.jpg</td>\n",
       "      <td>./imgClfDataset/raw_dataset/paintings/full</td>\n",
       "      <td>0</td>\n",
       "    </tr>\n",
       "    <tr>\n",
       "      <th>1032</th>\n",
       "      <td>0fcd2c32af4a99435fae98ab4312455dd80e19d1.jpg</td>\n",
       "      <td>./imgClfDataset/raw_dataset/paintings/full</td>\n",
       "      <td>0</td>\n",
       "    </tr>\n",
       "    <tr>\n",
       "      <th>1033</th>\n",
       "      <td>6376047049e580f0e75ac57bd41cc6f82b075e12.jpg</td>\n",
       "      <td>./imgClfDataset/raw_dataset/paintings/full</td>\n",
       "      <td>0</td>\n",
       "    </tr>\n",
       "    <tr>\n",
       "      <th>1034</th>\n",
       "      <td>16a3d7f796bc1aa7b35ebd151559b85fc209750a.jpg</td>\n",
       "      <td>./imgClfDataset/raw_dataset/paintings/full</td>\n",
       "      <td>0</td>\n",
       "    </tr>\n",
       "    <tr>\n",
       "      <th>1035</th>\n",
       "      <td>7f901564ddfecf9e75fea36901c4de60c7300856.jpg</td>\n",
       "      <td>./imgClfDataset/raw_dataset/photographs/full</td>\n",
       "      <td>1</td>\n",
       "    </tr>\n",
       "  </tbody>\n",
       "</table>\n",
       "<p>1036 rows × 3 columns</p>\n",
       "</div>"
      ],
      "text/plain": [
       "                                             image  \\\n",
       "0     bae3912762c4fc6000d2f1ff57c24aa3df1ff011.jpg   \n",
       "1     8de3bfb56c8439665add3126ce544af064be944c.jpg   \n",
       "2     ef99d0326c60991496c9e2a7a066dbadd0ff9f4a.jpg   \n",
       "3     02f58f692c08c0fb377d754c239ffe3371c267cd.jpg   \n",
       "4     0b3ede5b30a3d2a53a8522438ac7d9eb37b88a53.jpg   \n",
       "...                                            ...   \n",
       "1031  31f4a57afdd421c53f92b30f8d7c3c22f9d398c5.jpg   \n",
       "1032  0fcd2c32af4a99435fae98ab4312455dd80e19d1.jpg   \n",
       "1033  6376047049e580f0e75ac57bd41cc6f82b075e12.jpg   \n",
       "1034  16a3d7f796bc1aa7b35ebd151559b85fc209750a.jpg   \n",
       "1035  7f901564ddfecf9e75fea36901c4de60c7300856.jpg   \n",
       "\n",
       "                                              path  class  \n",
       "0     ./imgClfDataset/raw_dataset/photographs/full      1  \n",
       "1     ./imgClfDataset/raw_dataset/photographs/full      1  \n",
       "2       ./imgClfDataset/raw_dataset/paintings/full      0  \n",
       "3     ./imgClfDataset/raw_dataset/photographs/full      1  \n",
       "4     ./imgClfDataset/raw_dataset/photographs/full      1  \n",
       "...                                            ...    ...  \n",
       "1031    ./imgClfDataset/raw_dataset/paintings/full      0  \n",
       "1032    ./imgClfDataset/raw_dataset/paintings/full      0  \n",
       "1033    ./imgClfDataset/raw_dataset/paintings/full      0  \n",
       "1034    ./imgClfDataset/raw_dataset/paintings/full      0  \n",
       "1035  ./imgClfDataset/raw_dataset/photographs/full      1  \n",
       "\n",
       "[1036 rows x 3 columns]"
      ]
     },
     "execution_count": 152,
     "metadata": {},
     "output_type": "execute_result"
    }
   ],
   "source": [
    "train_data"
   ]
  },
  {
   "cell_type": "code",
   "execution_count": 169,
   "metadata": {},
   "outputs": [],
   "source": [
    "DATASET_PATH = './imgClfDataset/PaintingsVsPhotographs'\n",
    "TRAIN_PATH = './imgClfDataset/PaintingsVsPhotographs/train'\n",
    "TEST_PATH = './imgClfDataset/PaintingsVsPhotographs/test'\n",
    "\n",
    "try:\n",
    "    os.mkdir(DATASET_PATH)\n",
    "    os.mkdir(TRAIN_PATH)\n",
    "    os.mkdir(TEST_PATH)\n",
    "except:\n",
    "    pass"
   ]
  },
  {
   "cell_type": "code",
   "execution_count": 166,
   "metadata": {},
   "outputs": [
    {
     "name": "stderr",
     "output_type": "stream",
     "text": [
      "/Users/siddesh.suseela/opt/anaconda3/lib/python3.7/site-packages/ipykernel_launcher.py:2: TqdmDeprecationWarning: This function will be removed in tqdm==5.0.0\n",
      "Please use `tqdm.notebook.tqdm` instead of `tqdm.tqdm_notebook`\n",
      "  \n"
     ]
    },
    {
     "data": {
      "application/vnd.jupyter.widget-view+json": {
       "model_id": "f8b999c413bc426899dfdcd909fdf03a",
       "version_major": 2,
       "version_minor": 0
      },
      "text/plain": [
       "HBox(children=(FloatProgress(value=1.0, bar_style='info', max=1.0), HTML(value='')))"
      ]
     },
     "metadata": {},
     "output_type": "display_data"
    },
    {
     "name": "stdout",
     "output_type": "stream",
     "text": [
      "\n"
     ]
    },
    {
     "name": "stderr",
     "output_type": "stream",
     "text": [
      "/Users/siddesh.suseela/opt/anaconda3/lib/python3.7/site-packages/ipykernel_launcher.py:6: SettingWithCopyWarning: \n",
      "A value is trying to be set on a copy of a slice from a DataFrame.\n",
      "Try using .loc[row_indexer,col_indexer] = value instead\n",
      "\n",
      "See the caveats in the documentation: https://pandas.pydata.org/pandas-docs/stable/user_guide/indexing.html#returning-a-view-versus-a-copy\n",
      "  \n"
     ]
    }
   ],
   "source": [
    "tmp_paths = list()\n",
    "for img, pt in tqdm_notebook(zip(train_data.image, train_data.path)):\n",
    "    shutil.copy(pt+'/'+img, TRAIN_PATH)\n",
    "    tmp_paths.append(TRAIN_PATH+'/'+img)\n",
    "    \n",
    "train_data['path'] = tmp_paths\n",
    "\n",
    "tmp_paths = list()\n",
    "for img, pt in tqdm_notebook(zip(test_data.image, test_data.path)):\n",
    "    shutil.copy(pt+'/'+img, TEST_PATH)\n",
    "    tmp_paths.append(TEST_PATH+'/'+img)\n",
    "    \n",
    "test_data['path'] = tmp_paths\n",
    "\n",
    "test_data"
   ]
  },
  {
   "cell_type": "code",
   "execution_count": 167,
   "metadata": {},
   "outputs": [
    {
     "data": {
      "text/html": [
       "<div>\n",
       "<style scoped>\n",
       "    .dataframe tbody tr th:only-of-type {\n",
       "        vertical-align: middle;\n",
       "    }\n",
       "\n",
       "    .dataframe tbody tr th {\n",
       "        vertical-align: top;\n",
       "    }\n",
       "\n",
       "    .dataframe thead th {\n",
       "        text-align: right;\n",
       "    }\n",
       "</style>\n",
       "<table border=\"1\" class=\"dataframe\">\n",
       "  <thead>\n",
       "    <tr style=\"text-align: right;\">\n",
       "      <th></th>\n",
       "      <th>image</th>\n",
       "      <th>path</th>\n",
       "      <th>class</th>\n",
       "    </tr>\n",
       "  </thead>\n",
       "  <tbody>\n",
       "    <tr>\n",
       "      <th>0</th>\n",
       "      <td>bae3912762c4fc6000d2f1ff57c24aa3df1ff011.jpg</td>\n",
       "      <td>./imgClfDataset/PaintingsVsPhotographs/train/b...</td>\n",
       "      <td>1</td>\n",
       "    </tr>\n",
       "    <tr>\n",
       "      <th>1</th>\n",
       "      <td>8de3bfb56c8439665add3126ce544af064be944c.jpg</td>\n",
       "      <td>./imgClfDataset/PaintingsVsPhotographs/train/8...</td>\n",
       "      <td>1</td>\n",
       "    </tr>\n",
       "    <tr>\n",
       "      <th>2</th>\n",
       "      <td>ef99d0326c60991496c9e2a7a066dbadd0ff9f4a.jpg</td>\n",
       "      <td>./imgClfDataset/PaintingsVsPhotographs/train/e...</td>\n",
       "      <td>0</td>\n",
       "    </tr>\n",
       "    <tr>\n",
       "      <th>3</th>\n",
       "      <td>02f58f692c08c0fb377d754c239ffe3371c267cd.jpg</td>\n",
       "      <td>./imgClfDataset/PaintingsVsPhotographs/train/0...</td>\n",
       "      <td>1</td>\n",
       "    </tr>\n",
       "    <tr>\n",
       "      <th>4</th>\n",
       "      <td>0b3ede5b30a3d2a53a8522438ac7d9eb37b88a53.jpg</td>\n",
       "      <td>./imgClfDataset/PaintingsVsPhotographs/train/0...</td>\n",
       "      <td>1</td>\n",
       "    </tr>\n",
       "    <tr>\n",
       "      <th>...</th>\n",
       "      <td>...</td>\n",
       "      <td>...</td>\n",
       "      <td>...</td>\n",
       "    </tr>\n",
       "    <tr>\n",
       "      <th>1031</th>\n",
       "      <td>31f4a57afdd421c53f92b30f8d7c3c22f9d398c5.jpg</td>\n",
       "      <td>./imgClfDataset/PaintingsVsPhotographs/train/3...</td>\n",
       "      <td>0</td>\n",
       "    </tr>\n",
       "    <tr>\n",
       "      <th>1032</th>\n",
       "      <td>0fcd2c32af4a99435fae98ab4312455dd80e19d1.jpg</td>\n",
       "      <td>./imgClfDataset/PaintingsVsPhotographs/train/0...</td>\n",
       "      <td>0</td>\n",
       "    </tr>\n",
       "    <tr>\n",
       "      <th>1033</th>\n",
       "      <td>6376047049e580f0e75ac57bd41cc6f82b075e12.jpg</td>\n",
       "      <td>./imgClfDataset/PaintingsVsPhotographs/train/6...</td>\n",
       "      <td>0</td>\n",
       "    </tr>\n",
       "    <tr>\n",
       "      <th>1034</th>\n",
       "      <td>16a3d7f796bc1aa7b35ebd151559b85fc209750a.jpg</td>\n",
       "      <td>./imgClfDataset/PaintingsVsPhotographs/train/1...</td>\n",
       "      <td>0</td>\n",
       "    </tr>\n",
       "    <tr>\n",
       "      <th>1035</th>\n",
       "      <td>7f901564ddfecf9e75fea36901c4de60c7300856.jpg</td>\n",
       "      <td>./imgClfDataset/PaintingsVsPhotographs/train/7...</td>\n",
       "      <td>1</td>\n",
       "    </tr>\n",
       "  </tbody>\n",
       "</table>\n",
       "<p>1036 rows × 3 columns</p>\n",
       "</div>"
      ],
      "text/plain": [
       "                                             image  \\\n",
       "0     bae3912762c4fc6000d2f1ff57c24aa3df1ff011.jpg   \n",
       "1     8de3bfb56c8439665add3126ce544af064be944c.jpg   \n",
       "2     ef99d0326c60991496c9e2a7a066dbadd0ff9f4a.jpg   \n",
       "3     02f58f692c08c0fb377d754c239ffe3371c267cd.jpg   \n",
       "4     0b3ede5b30a3d2a53a8522438ac7d9eb37b88a53.jpg   \n",
       "...                                            ...   \n",
       "1031  31f4a57afdd421c53f92b30f8d7c3c22f9d398c5.jpg   \n",
       "1032  0fcd2c32af4a99435fae98ab4312455dd80e19d1.jpg   \n",
       "1033  6376047049e580f0e75ac57bd41cc6f82b075e12.jpg   \n",
       "1034  16a3d7f796bc1aa7b35ebd151559b85fc209750a.jpg   \n",
       "1035  7f901564ddfecf9e75fea36901c4de60c7300856.jpg   \n",
       "\n",
       "                                                   path  class  \n",
       "0     ./imgClfDataset/PaintingsVsPhotographs/train/b...      1  \n",
       "1     ./imgClfDataset/PaintingsVsPhotographs/train/8...      1  \n",
       "2     ./imgClfDataset/PaintingsVsPhotographs/train/e...      0  \n",
       "3     ./imgClfDataset/PaintingsVsPhotographs/train/0...      1  \n",
       "4     ./imgClfDataset/PaintingsVsPhotographs/train/0...      1  \n",
       "...                                                 ...    ...  \n",
       "1031  ./imgClfDataset/PaintingsVsPhotographs/train/3...      0  \n",
       "1032  ./imgClfDataset/PaintingsVsPhotographs/train/0...      0  \n",
       "1033  ./imgClfDataset/PaintingsVsPhotographs/train/6...      0  \n",
       "1034  ./imgClfDataset/PaintingsVsPhotographs/train/1...      0  \n",
       "1035  ./imgClfDataset/PaintingsVsPhotographs/train/7...      1  \n",
       "\n",
       "[1036 rows x 3 columns]"
      ]
     },
     "execution_count": 167,
     "metadata": {},
     "output_type": "execute_result"
    }
   ],
   "source": [
    "train_data"
   ]
  },
  {
   "cell_type": "code",
   "execution_count": null,
   "metadata": {},
   "outputs": [],
   "source": []
  }
 ],
 "metadata": {
  "kernelspec": {
   "display_name": "Python 3",
   "language": "python",
   "name": "python3"
  },
  "language_info": {
   "codemirror_mode": {
    "name": "ipython",
    "version": 3
   },
   "file_extension": ".py",
   "mimetype": "text/x-python",
   "name": "python",
   "nbconvert_exporter": "python",
   "pygments_lexer": "ipython3",
   "version": "3.7.6"
  }
 },
 "nbformat": 4,
 "nbformat_minor": 4
}
